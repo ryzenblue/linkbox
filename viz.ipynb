{
 "cells": [
  {
   "cell_type": "code",
   "execution_count": null,
   "id": "b21a9324",
   "metadata": {},
   "outputs": [],
   "source": [
    "import pandas as pd"
   ]
  },
  {
   "cell_type": "code",
   "execution_count": null,
   "id": "b8d76346",
   "metadata": {},
   "outputs": [],
   "source": [
    "import matplotlib.pyplot as plt"
   ]
  },
  {
   "cell_type": "code",
   "execution_count": null,
   "id": "85879850",
   "metadata": {},
   "outputs": [],
   "source": [
    "smartphones = pd.read_csv(\"./assets/smartphones.csv\")"
   ]
  },
  {
   "cell_type": "code",
   "execution_count": null,
   "id": "aab1cbbc",
   "metadata": {},
   "outputs": [],
   "source": [
    "smartphones.isnull().sum()"
   ]
  },
  {
   "cell_type": "code",
   "execution_count": null,
   "id": "67a1a474",
   "metadata": {},
   "outputs": [],
   "source": [
    "smartphones.dtypes"
   ]
  },
  {
   "cell_type": "code",
   "execution_count": null,
   "id": "10f3943e",
   "metadata": {},
   "outputs": [],
   "source": [
    "smartphones.head(10)"
   ]
  },
  {
   "cell_type": "code",
   "execution_count": null,
   "id": "a49e6bcb",
   "metadata": {},
   "outputs": [],
   "source": [
    "os_counts = smartphones[\"OS\"].value_counts()\n",
    "fig, ax = plt.subplots()\n",
    "ax.pie(os_counts, labels=os_counts.keys(), autopct=\"%1.1f%%\", shadow=True)\n",
    "\n",
    "ax.set_title(\"Operating System Share\")\n",
    "\n",
    "plt.show()"
   ]
  },
  {
   "cell_type": "code",
   "execution_count": null,
   "id": "e59e27fe",
   "metadata": {},
   "outputs": [],
   "source": [
    "company_counts = smartphones[\"Company\"].value_counts()\n",
    "fig, ax = plt.subplots()\n",
    "ax.pie(company_counts, labels=company_counts.keys(), autopct=\"%1.1f%%\", shadow=True)\n",
    "\n",
    "ax.set_title(\"Company Share\")\n",
    "\n",
    "plt.show()"
   ]
  },
  {
   "cell_type": "code",
   "execution_count": null,
   "id": "028b9524",
   "metadata": {},
   "outputs": [],
   "source": [
    "years = smartphones[\"year\"].value_counts()\n",
    "\n",
    "fig, ax = plt.subplots()\n",
    "years = years.sort_index()\n",
    "years.plot.bar(ax=ax)\n",
    "\n",
    "ax.set_title(\"Year vs. No. of Phones\")\n",
    "ax.set_xlabel(\"Year\")\n",
    "ax.set_ylabel(\"No. of Phones\")\n",
    "\n",
    "plt.show()"
   ]
  },
  {
   "cell_type": "code",
   "execution_count": null,
   "id": "0e98c86d",
   "metadata": {},
   "outputs": [],
   "source": [
    "fig, ax = plt.subplots()\n",
    "\n",
    "smartphones.plot.box(ax=ax, column=\"Weight\", by=\"year\")\n",
    "plt.show()"
   ]
  },
  {
   "cell_type": "code",
   "execution_count": null,
   "id": "1644d28b",
   "metadata": {},
   "outputs": [],
   "source": []
  }
 ],
 "metadata": {
  "kernelspec": {
   "display_name": "Python 3 (ipykernel)",
   "language": "python",
   "name": "python3"
  },
  "language_info": {
   "codemirror_mode": {
    "name": "ipython",
    "version": 3
   },
   "file_extension": ".py",
   "mimetype": "text/x-python",
   "name": "python",
   "nbconvert_exporter": "python",
   "pygments_lexer": "ipython3",
   "version": "3.10.4"
  }
 },
 "nbformat": 4,
 "nbformat_minor": 5
}
